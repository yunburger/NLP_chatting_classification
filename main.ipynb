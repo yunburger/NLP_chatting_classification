{
 "cells": [
  {
   "cell_type": "code",
   "execution_count": 3,
   "metadata": {},
   "outputs": [
    {
     "name": "stdout",
     "output_type": "stream",
     "text": [
      "Collecting keras\n",
      "  Downloading Keras-2.3.1-py2.py3-none-any.whl (377 kB)\n",
      "Requirement already satisfied: six>=1.9.0 in c:\\users\\d518_1\\appdata\\roaming\\python\\python38\\site-packages (from keras) (1.15.0)\n",
      "Collecting scipy>=0.14\n",
      "  Downloading scipy-1.4.1-cp38-cp38-win_amd64.whl (31.0 MB)\n",
      "Collecting keras-applications>=1.0.6\n",
      "  Downloading Keras_Applications-1.0.8-py3-none-any.whl (50 kB)\n",
      "Collecting keras-preprocessing>=1.0.5\n",
      "  Downloading Keras_Preprocessing-1.1.2-py2.py3-none-any.whl (42 kB)\n",
      "Collecting numpy>=1.9.1\n",
      "  Downloading numpy-1.18.5-cp38-cp38-win_amd64.whl (12.8 MB)\n",
      "Requirement already satisfied: pyyaml in c:\\users\\d518_1\\appdata\\local\\programs\\python\\python38\\lib\\site-packages (from keras) (5.3.1)\n",
      "Collecting h5py\n",
      "  Downloading h5py-2.10.0-cp38-cp38-win_amd64.whl (2.5 MB)\n",
      "Installing collected packages: numpy, scipy, h5py, keras-applications, keras-preprocessing, keras\n",
      "Successfully installed h5py-2.10.0 keras-2.3.1 keras-applications-1.0.8 keras-preprocessing-1.1.2 numpy-1.18.5 scipy-1.4.1\n"
     ]
    }
   ],
   "source": []
  },
  {
   "cell_type": "code",
   "execution_count": 36,
   "metadata": {},
   "outputs": [],
   "source": [
    "from keras.preprocessing.text import Tokenizer\n",
    "t = Tokenizer(num_words=None, filters=' ', lower=True, split=' ', char_level=False, oov_token=None, document_count=0)"
   ]
  },
  {
   "cell_type": "code",
   "execution_count": 50,
   "metadata": {},
   "outputs": [
    {
     "name": "stdout",
     "output_type": "stream",
     "text": [
      "9\n"
     ]
    }
   ],
   "source": [
    "sentence = ['바보', '바 보', '바보~~', '밥보ㅗ', '밥보', '바보같이 하지마라']\n",
    "y_train = [1, 0, 0, 1, 1, 0]\n",
    "\n",
    "t.fit_on_texts(sentence)\n",
    "vocab_size = len(t.word_index)+1\n",
    "print(vocab_size)"
   ]
  },
  {
   "cell_type": "code",
   "execution_count": 41,
   "metadata": {},
   "outputs": [
    {
     "name": "stdout",
     "output_type": "stream",
     "text": [
      "[[1], [2, 3], [4], [5], [6], [7, 8]]\n"
     ]
    }
   ],
   "source": [
    "x_encoded = t.texts_to_sequences(sentence)\n",
    "print(x_encoded)"
   ]
  },
  {
   "cell_type": "code",
   "execution_count": 42,
   "metadata": {},
   "outputs": [
    {
     "name": "stdout",
     "output_type": "stream",
     "text": [
      "2\n"
     ]
    }
   ],
   "source": [
    "max_length = max(len(l) for l in x_encoded)\n",
    "print(max_length)"
   ]
  },
  {
   "cell_type": "code",
   "execution_count": 52,
   "metadata": {},
   "outputs": [
    {
     "name": "stdout",
     "output_type": "stream",
     "text": [
      "[[1 0]\n",
      " [2 3]\n",
      " [4 0]\n",
      " [5 0]\n",
      " [6 0]\n",
      " [7 8]]\n"
     ]
    }
   ],
   "source": [
    "from keras.preprocessing.sequence import pad_sequences\n",
    "x_train = pad_sequences(x_encoded, maxlen=max_length, padding='post')\n",
    "\n",
    "print(x_train)"
   ]
  },
  {
   "cell_type": "code",
   "execution_count": 53,
   "metadata": {},
   "outputs": [],
   "source": [
    "from keras.models import Sequential\n",
    "from keras.layers import Dense, Embedding, Flatten\n",
    "model = Sequential()\n",
    "model.add(Embedding(vocab_size, 2, input_length=max_length))\n",
    "# 모든 임베딩 벡터는 4차원을 가지게 됨.\n",
    "model.add(Flatten()) # Dense의 입력으로 넣기 위함임.\n",
    "model.add(Dense(1, activation='sigmoid'))"
   ]
  },
  {
   "cell_type": "code",
   "execution_count": 54,
   "metadata": {},
   "outputs": [
    {
     "name": "stdout",
     "output_type": "stream",
     "text": [
      "Epoch 1/100\n",
      " - 0s - loss: 0.6883 - acc: 0.6667\n",
      "Epoch 2/100\n",
      " - 0s - loss: 0.6873 - acc: 0.6667\n",
      "Epoch 3/100\n",
      " - 0s - loss: 0.6862 - acc: 0.6667\n",
      "Epoch 4/100\n",
      " - 0s - loss: 0.6852 - acc: 0.8333\n",
      "Epoch 5/100\n",
      " - 0s - loss: 0.6842 - acc: 0.8333\n",
      "Epoch 6/100\n",
      " - 0s - loss: 0.6832 - acc: 0.8333\n",
      "Epoch 7/100\n",
      " - 0s - loss: 0.6821 - acc: 0.8333\n",
      "Epoch 8/100\n",
      " - 0s - loss: 0.6811 - acc: 0.8333\n",
      "Epoch 9/100\n",
      " - 0s - loss: 0.6800 - acc: 0.8333\n",
      "Epoch 10/100\n",
      " - 0s - loss: 0.6789 - acc: 0.8333\n",
      "Epoch 11/100\n",
      " - 0s - loss: 0.6779 - acc: 0.8333\n",
      "Epoch 12/100\n",
      " - 0s - loss: 0.6768 - acc: 0.8333\n",
      "Epoch 13/100\n",
      " - 0s - loss: 0.6757 - acc: 0.8333\n",
      "Epoch 14/100\n",
      " - 0s - loss: 0.6746 - acc: 0.8333\n",
      "Epoch 15/100\n",
      " - 0s - loss: 0.6735 - acc: 0.8333\n",
      "Epoch 16/100\n",
      " - 0s - loss: 0.6724 - acc: 0.8333\n",
      "Epoch 17/100\n",
      " - 0s - loss: 0.6713 - acc: 0.8333\n",
      "Epoch 18/100\n",
      " - 0s - loss: 0.6702 - acc: 0.8333\n",
      "Epoch 19/100\n",
      " - 0s - loss: 0.6691 - acc: 0.8333\n",
      "Epoch 20/100\n",
      " - 0s - loss: 0.6680 - acc: 0.8333\n",
      "Epoch 21/100\n",
      " - 0s - loss: 0.6669 - acc: 0.8333\n",
      "Epoch 22/100\n",
      " - 0s - loss: 0.6658 - acc: 0.8333\n",
      "Epoch 23/100\n",
      " - 0s - loss: 0.6646 - acc: 0.8333\n",
      "Epoch 24/100\n",
      " - 0s - loss: 0.6635 - acc: 0.8333\n",
      "Epoch 25/100\n",
      " - 0s - loss: 0.6624 - acc: 0.8333\n",
      "Epoch 26/100\n",
      " - 0s - loss: 0.6613 - acc: 0.8333\n",
      "Epoch 27/100\n",
      " - 0s - loss: 0.6601 - acc: 0.8333\n",
      "Epoch 28/100\n",
      " - 0s - loss: 0.6590 - acc: 0.8333\n",
      "Epoch 29/100\n",
      " - 0s - loss: 0.6579 - acc: 0.8333\n",
      "Epoch 30/100\n",
      " - 0s - loss: 0.6567 - acc: 0.8333\n",
      "Epoch 31/100\n",
      " - 0s - loss: 0.6556 - acc: 0.8333\n",
      "Epoch 32/100\n",
      " - 0s - loss: 0.6544 - acc: 0.8333\n",
      "Epoch 33/100\n",
      " - 0s - loss: 0.6533 - acc: 0.8333\n",
      "Epoch 34/100\n",
      " - 0s - loss: 0.6521 - acc: 0.8333\n",
      "Epoch 35/100\n",
      " - 0s - loss: 0.6510 - acc: 0.8333\n",
      "Epoch 36/100\n",
      " - 0s - loss: 0.6498 - acc: 0.8333\n",
      "Epoch 37/100\n",
      " - 0s - loss: 0.6487 - acc: 1.0000\n",
      "Epoch 38/100\n",
      " - 0s - loss: 0.6475 - acc: 1.0000\n",
      "Epoch 39/100\n",
      " - 0s - loss: 0.6463 - acc: 1.0000\n",
      "Epoch 40/100\n",
      " - 0s - loss: 0.6452 - acc: 1.0000\n",
      "Epoch 41/100\n",
      " - 0s - loss: 0.6440 - acc: 1.0000\n",
      "Epoch 42/100\n",
      " - 0s - loss: 0.6428 - acc: 1.0000\n",
      "Epoch 43/100\n",
      " - 0s - loss: 0.6416 - acc: 1.0000\n",
      "Epoch 44/100\n",
      " - 0s - loss: 0.6404 - acc: 1.0000\n",
      "Epoch 45/100\n",
      " - 0s - loss: 0.6392 - acc: 1.0000\n",
      "Epoch 46/100\n",
      " - 0s - loss: 0.6380 - acc: 1.0000\n",
      "Epoch 47/100\n",
      " - 0s - loss: 0.6369 - acc: 1.0000\n",
      "Epoch 48/100\n",
      " - 0s - loss: 0.6357 - acc: 1.0000\n",
      "Epoch 49/100\n",
      " - 0s - loss: 0.6345 - acc: 1.0000\n",
      "Epoch 50/100\n",
      " - 0s - loss: 0.6333 - acc: 1.0000\n",
      "Epoch 51/100\n",
      " - 0s - loss: 0.6321 - acc: 1.0000\n",
      "Epoch 52/100\n",
      " - 0s - loss: 0.6308 - acc: 1.0000\n",
      "Epoch 53/100\n",
      " - 0s - loss: 0.6296 - acc: 1.0000\n",
      "Epoch 54/100\n",
      " - 0s - loss: 0.6284 - acc: 1.0000\n",
      "Epoch 55/100\n",
      " - 0s - loss: 0.6272 - acc: 1.0000\n",
      "Epoch 56/100\n",
      " - 0s - loss: 0.6260 - acc: 1.0000\n",
      "Epoch 57/100\n",
      " - 0s - loss: 0.6248 - acc: 1.0000\n",
      "Epoch 58/100\n",
      " - 0s - loss: 0.6235 - acc: 1.0000\n",
      "Epoch 59/100\n",
      " - 0s - loss: 0.6223 - acc: 1.0000\n",
      "Epoch 60/100\n",
      " - 0s - loss: 0.6211 - acc: 1.0000\n",
      "Epoch 61/100\n",
      " - 0s - loss: 0.6199 - acc: 1.0000\n",
      "Epoch 62/100\n",
      " - 0s - loss: 0.6186 - acc: 1.0000\n",
      "Epoch 63/100\n",
      " - 0s - loss: 0.6174 - acc: 1.0000\n",
      "Epoch 64/100\n",
      " - 0s - loss: 0.6161 - acc: 1.0000\n",
      "Epoch 65/100\n",
      " - 0s - loss: 0.6149 - acc: 1.0000\n",
      "Epoch 66/100\n",
      " - 0s - loss: 0.6136 - acc: 1.0000\n",
      "Epoch 67/100\n",
      " - 0s - loss: 0.6124 - acc: 1.0000\n",
      "Epoch 68/100\n",
      " - 0s - loss: 0.6111 - acc: 1.0000\n",
      "Epoch 69/100\n",
      " - 0s - loss: 0.6099 - acc: 1.0000\n",
      "Epoch 70/100\n",
      " - 0s - loss: 0.6086 - acc: 1.0000\n",
      "Epoch 71/100\n",
      " - 0s - loss: 0.6074 - acc: 1.0000\n",
      "Epoch 72/100\n",
      " - 0s - loss: 0.6061 - acc: 1.0000\n",
      "Epoch 73/100\n",
      " - 0s - loss: 0.6049 - acc: 1.0000\n",
      "Epoch 74/100\n",
      " - 0s - loss: 0.6036 - acc: 1.0000\n",
      "Epoch 75/100\n",
      " - 0s - loss: 0.6023 - acc: 1.0000\n",
      "Epoch 76/100\n",
      " - 0s - loss: 0.6011 - acc: 1.0000\n",
      "Epoch 77/100\n",
      " - 0s - loss: 0.5998 - acc: 1.0000\n",
      "Epoch 78/100\n",
      " - 0s - loss: 0.5985 - acc: 1.0000\n",
      "Epoch 79/100\n",
      " - 0s - loss: 0.5972 - acc: 1.0000\n",
      "Epoch 80/100\n",
      " - 0s - loss: 0.5959 - acc: 1.0000\n",
      "Epoch 81/100\n",
      " - 0s - loss: 0.5947 - acc: 1.0000\n",
      "Epoch 82/100\n",
      " - 0s - loss: 0.5934 - acc: 1.0000\n",
      "Epoch 83/100\n",
      " - 0s - loss: 0.5921 - acc: 1.0000\n",
      "Epoch 84/100\n",
      " - 0s - loss: 0.5908 - acc: 1.0000\n",
      "Epoch 85/100\n",
      " - 0s - loss: 0.5895 - acc: 1.0000\n",
      "Epoch 86/100\n",
      " - 0s - loss: 0.5882 - acc: 1.0000\n",
      "Epoch 87/100\n",
      " - 0s - loss: 0.5869 - acc: 1.0000\n",
      "Epoch 88/100\n",
      " - 0s - loss: 0.5856 - acc: 1.0000\n",
      "Epoch 89/100\n",
      " - 0s - loss: 0.5843 - acc: 1.0000\n",
      "Epoch 90/100\n",
      " - 0s - loss: 0.5830 - acc: 1.0000\n",
      "Epoch 91/100\n",
      " - 0s - loss: 0.5817 - acc: 1.0000\n",
      "Epoch 92/100\n",
      " - 0s - loss: 0.5804 - acc: 1.0000\n",
      "Epoch 93/100\n",
      " - 0s - loss: 0.5791 - acc: 1.0000\n",
      "Epoch 94/100\n",
      " - 0s - loss: 0.5778 - acc: 1.0000\n",
      "Epoch 95/100\n",
      " - 0s - loss: 0.5765 - acc: 1.0000\n",
      "Epoch 96/100\n",
      " - 0s - loss: 0.5752 - acc: 1.0000\n",
      "Epoch 97/100\n",
      " - 0s - loss: 0.5739 - acc: 1.0000\n",
      "Epoch 98/100\n",
      " - 0s - loss: 0.5726 - acc: 1.0000\n",
      "Epoch 99/100\n",
      " - 0s - loss: 0.5712 - acc: 1.0000\n",
      "Epoch 100/100\n",
      " - 0s - loss: 0.5699 - acc: 1.0000\n"
     ]
    },
    {
     "data": {
      "text/plain": [
       "<keras.callbacks.callbacks.History at 0x21328759d60>"
      ]
     },
     "execution_count": 54,
     "metadata": {},
     "output_type": "execute_result"
    }
   ],
   "source": [
    "model.compile(optimizer='adam', loss='binary_crossentropy', metrics=['acc'])\n",
    "model.fit(x_train, y_train, epochs=100, verbose=2)"
   ]
  }
 ],
 "metadata": {
  "kernelspec": {
   "display_name": "Python 3",
   "language": "python",
   "name": "python3"
  },
  "language_info": {
   "codemirror_mode": {
    "name": "ipython",
    "version": 3
   },
   "file_extension": ".py",
   "mimetype": "text/x-python",
   "name": "python",
   "nbconvert_exporter": "python",
   "pygments_lexer": "ipython3",
   "version": "3.8.3"
  }
 },
 "nbformat": 4,
 "nbformat_minor": 4
}
